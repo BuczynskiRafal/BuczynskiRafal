{
  "nbformat": 4,
  "nbformat_minor": 0,
  "metadata": {
    "colab": {
      "name": "Pandas.ipynb",
      "provenance": [],
      "authorship_tag": "ABX9TyNrRjPcRBbLPy5+JDUitpdX",
      "include_colab_link": true
    },
    "kernelspec": {
      "name": "python3",
      "display_name": "Python 3"
    },
    "language_info": {
      "name": "python"
    }
  },
  "cells": [
    {
      "cell_type": "markdown",
      "metadata": {
        "id": "view-in-github",
        "colab_type": "text"
      },
      "source": [
        "<a href=\"https://colab.research.google.com/github/BuczynskiRafal/BuczynskiRafal/blob/main/pandas/Pandas.ipynb\" target=\"_parent\"><img src=\"https://colab.research.google.com/assets/colab-badge.svg\" alt=\"Open In Colab\"/></a>"
      ]
    },
    {
      "cell_type": "markdown",
      "source": [
        "Biblioteka Pandas, wprowadzenie\n",
        "\n"
      ],
      "metadata": {
        "id": "n-bk1xVhOBY9"
      }
    },
    {
      "cell_type": "code",
      "execution_count": 2,
      "metadata": {
        "colab": {
          "base_uri": "https://localhost:8080/",
          "height": 35
        },
        "id": "HnkFUKJVNB0_",
        "outputId": "ef4e3e09-efd0-40ec-ab43-c6f89728d15a"
      },
      "outputs": [
        {
          "output_type": "execute_result",
          "data": {
            "text/plain": [
              "'1.21.6'"
            ],
            "application/vnd.google.colaboratory.intrinsic+json": {
              "type": "string"
            }
          },
          "metadata": {},
          "execution_count": 2
        }
      ],
      "source": [
        "import pandas as pd\n",
        "import numpy as np\n",
        "\n",
        "pd.__version__\n",
        "np.__version__"
      ]
    },
    {
      "cell_type": "code",
      "source": [
        "# Example 1\n",
        "# Obiekt series składający się z 1 elementu ponizej 1 skalaru.\n",
        "s = pd.Series(4)\n",
        "print(s)"
      ],
      "metadata": {
        "colab": {
          "base_uri": "https://localhost:8080/"
        },
        "id": "aDjtplwfOJCQ",
        "outputId": "a0a4e511-a987-4702-dc2e-0073cbff74b6"
      },
      "execution_count": 3,
      "outputs": [
        {
          "output_type": "stream",
          "name": "stdout",
          "text": [
            "0    4\n",
            "dtype: int64\n"
          ]
        }
      ]
    },
    {
      "cell_type": "code",
      "source": [
        "#Example 2\n",
        "# Utworzenie obiektu series z definicji\n",
        "s2 = pd.Series(data=[1, 32, 25], index=['a', 'b', 'c'], name='value')\n",
        "s2"
      ],
      "metadata": {
        "colab": {
          "base_uri": "https://localhost:8080/"
        },
        "id": "OET4GmraPIyS",
        "outputId": "6a7aba69-f293-4069-ca15-fa39ebe7ba88"
      },
      "execution_count": 4,
      "outputs": [
        {
          "output_type": "execute_result",
          "data": {
            "text/plain": [
              "a     1\n",
              "b    32\n",
              "c    25\n",
              "Name: value, dtype: int64"
            ]
          },
          "metadata": {},
          "execution_count": 4
        }
      ]
    },
    {
      "cell_type": "code",
      "source": [
        "# Example 3\n",
        "# Generowanie przyladowych danych za pomocą numy\n",
        "data_3 = np.random.rand(100)\n",
        "# Powstaje tablica numpy (array) zawierająca wartości typu float\n",
        "data_3\n",
        "\n",
        "# Tworzenie obiektu series\n",
        "s_3 = pd.Series(data=data_3)\n",
        "s_3"
      ],
      "metadata": {
        "colab": {
          "base_uri": "https://localhost:8080/"
        },
        "id": "OKbnKKrWYWye",
        "outputId": "40b66924-4e44-412d-a1af-17ea5533a9de"
      },
      "execution_count": 5,
      "outputs": [
        {
          "output_type": "execute_result",
          "data": {
            "text/plain": [
              "0     0.072132\n",
              "1     0.467245\n",
              "2     0.081158\n",
              "3     0.570088\n",
              "4     0.106309\n",
              "        ...   \n",
              "95    0.366718\n",
              "96    0.392579\n",
              "97    0.220232\n",
              "98    0.275743\n",
              "99    0.871683\n",
              "Length: 100, dtype: float64"
            ]
          },
          "metadata": {},
          "execution_count": 5
        }
      ]
    },
    {
      "cell_type": "code",
      "source": [
        "# Example 4\n",
        "# Obiekt series ze slownika zawierajacy tylko str\n",
        "data_4 = {'Apple':'USA', 'CD Projekct': 'Poland'}\n",
        "s_4 = pd.Series(data=data_4)\n",
        "s_4"
      ],
      "metadata": {
        "colab": {
          "base_uri": "https://localhost:8080/"
        },
        "id": "HoBWcL0ZZYQJ",
        "outputId": "b5133530-8707-4fa4-f6e8-a4077a477c73"
      },
      "execution_count": 6,
      "outputs": [
        {
          "output_type": "execute_result",
          "data": {
            "text/plain": [
              "Apple             USA\n",
              "CD Projekct    Poland\n",
              "dtype: object"
            ]
          },
          "metadata": {},
          "execution_count": 6
        }
      ]
    },
    {
      "cell_type": "code",
      "source": [
        "# Example 5\n",
        "data_5 = {'Apple':'USA', 'CD Projekct': 'Poland'}\n",
        "s_5_series = pd.Series(data=data_5)\n",
        "s_5_series\n",
        "\n",
        "# przedstawienie jako tablica\n",
        "s_5_array = s_5_series.values\n",
        "s_5_array\n",
        "\n",
        "# Wycinanie wartości\n",
        "apple_price = s_5_series['Apple']\n",
        "\n",
        "# sprawdzenie czy znajduje sie w obiekcie typu series\n",
        "'Apple' in s_5_series"
      ],
      "metadata": {
        "colab": {
          "base_uri": "https://localhost:8080/"
        },
        "id": "p6cm3n2st6nj",
        "outputId": "182bebda-ab9d-48e7-d016-8ee06290b38c"
      },
      "execution_count": 13,
      "outputs": [
        {
          "output_type": "execute_result",
          "data": {
            "text/plain": [
              "True"
            ]
          },
          "metadata": {},
          "execution_count": 13
        }
      ]
    },
    {
      "cell_type": "code",
      "source": [
        "# Example 6\n",
        "\n",
        "# ustawienie ziarna losowego\n",
        "np.random"
      ],
      "metadata": {
        "id": "YSkfxkmOvGbA"
      },
      "execution_count": null,
      "outputs": []
    }
  ]
}